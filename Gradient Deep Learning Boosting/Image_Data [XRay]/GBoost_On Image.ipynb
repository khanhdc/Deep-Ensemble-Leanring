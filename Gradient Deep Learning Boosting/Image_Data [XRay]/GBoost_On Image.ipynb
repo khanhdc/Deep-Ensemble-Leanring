{
 "cells": [
  {
   "cell_type": "code",
   "execution_count": 1,
   "id": "complex-smooth",
   "metadata": {},
   "outputs": [],
   "source": [
    "import tensorflow as tf\n",
    "import numpy as np\n",
    "import matplotlib.pyplot as plt\n",
    "import pandas as pd\n",
    "from tensorflow.keras.preprocessing.image import ImageDataGenerator\n",
    "import os\n",
    "from sklearn.metrics import classification_report, confusion_matrix\n",
    "import seaborn as sns\n",
    "import cv2\n",
    "import glob\n",
    "# example of zoom image augmentation\n",
    "from numpy import expand_dims\n",
    "from tensorflow.keras.preprocessing.image import load_img\n",
    "from tensorflow.keras.preprocessing.image import img_to_array\n",
    "from tensorflow.keras.preprocessing.image import ImageDataGenerator\n",
    "from matplotlib import pyplot\n",
    "### from imblearn.under_sampling import RandomUnderSampler\n",
    "from tensorflow.keras.utils import to_categorical\n",
    "# define undersample strategy\n",
    "from tqdm import tqdm\n",
    "import warnings\n",
    "warnings.filterwarnings('ignore')\n",
    "import tensorflow\n",
    "tensorflow.compat.v1.logging.set_verbosity(tensorflow.compat.v1.logging.ERROR)\n",
    "import timeit\n",
    "import tracemalloc\n",
    "from tensorflow.keras.utils import to_categorica\n",
    "from sklearn.metrics import confusion_matrix, roc_auc_score, roc_curve, precision_recall_curve\n",
    "import math\n",
    "from tensorflow.keras.models import Sequential\n",
    "from tensorflow.keras.layers import Dense\n",
    "import tensorflow.keras as keras\n",
    "from tensorflow.keras.layers import Input, Flatten, Dropout, Dense, Conv2D, MaxPooling2D, MaxPool2D\n",
    "from tensorflow.keras.applications import EfficientNetB0, ResNet50V2"
   ]
  },
  {
   "cell_type": "code",
   "execution_count": 2,
   "id": "cosmetic-necklace",
   "metadata": {},
   "outputs": [],
   "source": [
    "lr=0.3"
   ]
  },
  {
   "cell_type": "code",
   "execution_count": 3,
   "id": "american-breeding",
   "metadata": {},
   "outputs": [],
   "source": [
    "# Replace to the right path if you clone this git to your computer\n",
    "main_path = \"..\\chest_xray\""
   ]
  },
  {
   "cell_type": "code",
   "execution_count": 4,
   "id": "applied-technique",
   "metadata": {},
   "outputs": [],
   "source": [
    "train_path = os.path.join(main_path,\"train\")\n",
    "test_path=os.path.join(main_path,\"test\")\n",
    "val_path=os.path.join(main_path,\"val\")"
   ]
  },
  {
   "cell_type": "code",
   "execution_count": 5,
   "id": "afraid-commander",
   "metadata": {},
   "outputs": [],
   "source": [
    "pneumonia_train_images = glob.glob(train_path+\"\\\\PNEUMONIA\\\\*.jpeg\")\n",
    "normal_train_images = glob.glob(train_path+\"\\\\NORMAL\\\\*.jpeg\")"
   ]
  },
  {
   "cell_type": "code",
   "execution_count": 6,
   "id": "equivalent-america",
   "metadata": {},
   "outputs": [],
   "source": [
    "pneumonia_test_images = glob.glob(test_path+\"\\\\PNEUMONIA\\\\*.jpeg\")\n",
    "normal_test_images = glob.glob(test_path+\"\\\\NORMAL\\\\*.jpeg\")"
   ]
  },
  {
   "cell_type": "code",
   "execution_count": 7,
   "id": "processed-favor",
   "metadata": {},
   "outputs": [],
   "source": [
    "pneumonia_val_images = glob.glob(val_path+\"\\\\PNEUMONIA\\\\*.jpeg\")\n",
    "normal_val_images = glob.glob(val_path+\"\\\\NORMAL\\\\*.jpeg\")"
   ]
  },
  {
   "cell_type": "code",
   "execution_count": 8,
   "id": "handmade-mercury",
   "metadata": {},
   "outputs": [
    {
     "data": {
      "text/plain": [
       "1341"
      ]
     },
     "execution_count": 8,
     "metadata": {},
     "output_type": "execute_result"
    }
   ],
   "source": [
    "print(len(normal_train_images))\n",
    "print(len(pneumonia_train_images))"
   ]
  },
  {
   "cell_type": "code",
   "execution_count": 10,
   "id": "absolute-drinking",
   "metadata": {},
   "outputs": [],
   "source": [
    "data = pd.DataFrame(np.concatenate([[0]*len(normal_train_images) , [1] *  len(pneumonia_train_images)]),columns=[\"class\"])"
   ]
  },
  {
   "cell_type": "code",
   "execution_count": 11,
   "id": "wound-membership",
   "metadata": {},
   "outputs": [
    {
     "name": "stderr",
     "output_type": "stream",
     "text": [
      "C:\\Users\\Khanh\\Anaconda3\\envs\\TG24_GPU_ComputerVision\\lib\\site-packages\\seaborn\\_decorators.py:36: FutureWarning: Pass the following variable as a keyword arg: x. From version 0.12, the only valid positional argument will be `data`, and passing other arguments without an explicit keyword will result in an error or misinterpretation.\n",
      "  warnings.warn(\n"
     ]
    },
    {
     "data": {
      "text/plain": [
       "<AxesSubplot:xlabel='class', ylabel='count'>"
      ]
     },
     "execution_count": 11,
     "metadata": {},
     "output_type": "execute_result"
    },
    {
     "data": {
      "image/png": "[encoded data removed]",
      "text/plain": [
       "<Figure size 432x288 with 1 Axes>"
      ]
     },
     "metadata": {
      "needs_background": "light"
     },
     "output_type": "display_data"
    }
   ],
   "source": [
    "sns.countplot(data['class'],data=data)"
   ]
  },
  {
   "cell_type": "markdown",
   "id": "verified-kruger",
   "metadata": {},
   "source": [
    "# Defining Image Generators"
   ]
  },
  {
   "cell_type": "markdown",
   "id": "annoying-buffer",
   "metadata": {},
   "source": [
    "## Load image into array"
   ]
  },
  {
   "cell_type": "code",
   "execution_count": 12,
   "id": "worse-population",
   "metadata": {},
   "outputs": [],
   "source": [
    "Normal_train=[]\n",
    "pneumonia_trian =[]"
   ]
  },
  {
   "cell_type": "code",
   "execution_count": 13,
   "id": "animated-discovery",
   "metadata": {},
   "outputs": [
    {
     "name": "stderr",
     "output_type": "stream",
     "text": [
      "100%|██████████| 1341/1341 [00:30<00:00, 44.06it/s]\n"
     ]
    }
   ],
   "source": [
    "import cv2\n",
    "from tqdm import tqdm\n",
    "for dirs in tqdm(normal_train_images):\n",
    "    img = cv2.imread(dirs)    \n",
    "    img2gray = cv2.cvtColor(img, cv2.COLOR_RGB2GRAY)\n",
    "    resized = cv2.resize(img2gray, (200,200))\n",
    "    #print(resized.shape)\n",
    "    Normal_train.append(np.array(resized))"
   ]
  },
  {
   "cell_type": "code",
   "execution_count": 14,
   "id": "becoming-freeze",
   "metadata": {},
   "outputs": [
    {
     "name": "stderr",
     "output_type": "stream",
     "text": [
      "100%|██████████| 3875/3875 [00:29<00:00, 129.23it/s]\n"
     ]
    }
   ],
   "source": [
    "import cv2\n",
    "from tqdm import tqdm\n",
    "for dirs in tqdm(pneumonia_train_images):\n",
    "    img = cv2.imread(dirs)    \n",
    "    img2gray = cv2.cvtColor(img, cv2.COLOR_RGB2GRAY)\n",
    "    resized = cv2.resize(img2gray, (200,200))\n",
    "    #print(resized.shape)\n",
    "    pneumonia_trian.append(np.array(resized))"
   ]
  },
  {
   "cell_type": "code",
   "execution_count": 15,
   "id": "prepared-psychiatry",
   "metadata": {},
   "outputs": [],
   "source": [
    "## Generating"
   ]
  },
  {
   "cell_type": "code",
   "execution_count": 16,
   "id": "sunrise-steam",
   "metadata": {},
   "outputs": [],
   "source": [
    "Normal_train_array=[]"
   ]
  },
  {
   "cell_type": "code",
   "execution_count": 17,
   "id": "established-microwave",
   "metadata": {
    "tags": []
   },
   "outputs": [
    {
     "name": "stderr",
     "output_type": "stream",
     "text": [
      "100%|██████████| 1341/1341 [00:00<?, ?it/s]\n"
     ]
    }
   ],
   "source": [
    "for i in tqdm(range(0,len(Normal_train))):\n",
    "    #print(a.shape)\n",
    "    #print(Normal_train[i].shape)\n",
    "    Normal_train_array.append(Normal_train[i])"
   ]
  },
  {
   "cell_type": "code",
   "execution_count": 18,
   "id": "multiple-hungarian",
   "metadata": {},
   "outputs": [
    {
     "name": "stderr",
     "output_type": "stream",
     "text": [
      "100%|██████████| 1341/1341 [07:13<00:00,  3.09it/s]\n"
     ]
    }
   ],
   "source": [
    "ind = 0\n",
    "from tqdm import tqdm\n",
    "for dirs in tqdm(normal_train_images):\n",
    "    ind=ind+1\n",
    "    img = cv2.imread(dirs) \n",
    "    data = img_to_array(img)\n",
    "    samples = expand_dims(data, 0)\n",
    "    \n",
    "    if ind%2 ==0:\n",
    "        continue\n",
    "    else:\n",
    "        datagen = ImageDataGenerator(zoom_range=[0.8,1.0])\n",
    "        it = datagen.flow(samples, batch_size=1)\n",
    "        for i in range(2):\n",
    "            batch = it.next()\n",
    "            image = batch[0].astype('uint8')\n",
    "            resized = cv2.resize(image, (200,200))\n",
    "            img2gray = cv2.cvtColor(resized, cv2.COLOR_RGB2GRAY)\n",
    "            Normal_train_array.append(img2gray)"
   ]
  },
  {
   "cell_type": "code",
   "execution_count": 19,
   "id": "cultural-grounds",
   "metadata": {},
   "outputs": [],
   "source": [
    "Normal_train_array_X = np.array(Normal_train_array)"
   ]
  },
  {
   "cell_type": "code",
   "execution_count": 20,
   "id": "preliminary-newfoundland",
   "metadata": {},
   "outputs": [],
   "source": [
    "Normal_train_array_y = [0]*len(Normal_train_array_X)"
   ]
  },
  {
   "cell_type": "code",
   "execution_count": 21,
   "id": "rising-landing",
   "metadata": {},
   "outputs": [
    {
     "data": {
      "text/plain": [
       "2683"
      ]
     },
     "execution_count": 21,
     "metadata": {},
     "output_type": "execute_result"
    }
   ],
   "source": [
    "len(Normal_train_array_y)"
   ]
  },
  {
   "cell_type": "code",
   "execution_count": 22,
   "id": "enormous-pontiac",
   "metadata": {},
   "outputs": [],
   "source": [
    "pneumonia_trian_array_X = np.array(pneumonia_trian)\n",
    "pneumonia_train_array_y = [1]*len(pneumonia_trian_array_X)"
   ]
  },
  {
   "cell_type": "code",
   "execution_count": 24,
   "id": "original-picnic",
   "metadata": {},
   "outputs": [],
   "source": [
    "X_train = np.concatenate((Normal_train_array_X, pneumonia_trian_array_X), axis=0)\n",
    "y_train = np.concatenate((np.array(Normal_train_array_y), np.array(pneumonia_train_array_y)), axis=0)"
   ]
  },
  {
   "cell_type": "markdown",
   "id": "induced-essence",
   "metadata": {},
   "source": [
    "### Read testing Image"
   ]
  },
  {
   "cell_type": "code",
   "execution_count": 28,
   "id": "automotive-copying",
   "metadata": {},
   "outputs": [],
   "source": [
    "Normal_test=[]\n",
    "pneumonia_test =[]\n",
    "Normal_test_array=[]"
   ]
  },
  {
   "cell_type": "code",
   "execution_count": 29,
   "id": "coordinated-allah",
   "metadata": {},
   "outputs": [
    {
     "name": "stderr",
     "output_type": "stream",
     "text": [
      "100%|██████████| 234/234 [00:04<00:00, 58.15it/s]\n"
     ]
    }
   ],
   "source": [
    "import cv2\n",
    "from tqdm import tqdm\n",
    "for dirs in tqdm(normal_test_images):\n",
    "    img = cv2.imread(dirs)    \n",
    "    img2gray = cv2.cvtColor(img, cv2.COLOR_RGB2GRAY)\n",
    "    resized = cv2.resize(img2gray, (200,200))\n",
    "    #print(resized.shape)\n",
    "    Normal_test.append(np.array(resized))"
   ]
  },
  {
   "cell_type": "code",
   "execution_count": 30,
   "id": "spread-transparency",
   "metadata": {},
   "outputs": [
    {
     "name": "stderr",
     "output_type": "stream",
     "text": [
      "100%|██████████| 390/390 [00:02<00:00, 145.29it/s]\n"
     ]
    }
   ],
   "source": [
    "import cv2\n",
    "from tqdm import tqdm\n",
    "for dirs in tqdm(pneumonia_test_images):\n",
    "    img = cv2.imread(dirs)    \n",
    "    img2gray = cv2.cvtColor(img, cv2.COLOR_RGB2GRAY)\n",
    "    resized = cv2.resize(img2gray, (200,200))\n",
    "    #print(resized.shape)\n",
    "    pneumonia_test.append(np.array(resized))"
   ]
  },
  {
   "cell_type": "code",
   "execution_count": 31,
   "id": "featured-diesel",
   "metadata": {},
   "outputs": [
    {
     "name": "stderr",
     "output_type": "stream",
     "text": [
      "100%|██████████| 234/234 [00:00<?, ?it/s]\n"
     ]
    }
   ],
   "source": [
    "for i in tqdm(range(0,len(Normal_test))):\n",
    "    #print(a.shape)\n",
    "    #print(Normal_train[i].shape)\n",
    "    Normal_test_array.append(Normal_test[i])"
   ]
  },
  {
   "cell_type": "code",
   "execution_count": 32,
   "id": "enabling-individual",
   "metadata": {},
   "outputs": [],
   "source": [
    "Normal_test_array_X = np.array(Normal_test_array)\n",
    "Normal_test_array_y = [0]*len(Normal_test_array_X)"
   ]
  },
  {
   "cell_type": "code",
   "execution_count": 34,
   "id": "sticky-consent",
   "metadata": {},
   "outputs": [],
   "source": [
    "pneumonia_test_array_X = np.array(pneumonia_test)\n",
    "pneumonia_test_array_y = [1]*len(pneumonia_test_array_X)"
   ]
  },
  {
   "cell_type": "code",
   "execution_count": 36,
   "id": "english-bernard",
   "metadata": {},
   "outputs": [],
   "source": [
    "X_test = np.concatenate((Normal_test_array_X, pneumonia_test_array_X), axis=0)\n",
    "y_test = np.concatenate((np.array(Normal_test_array_y), np.array(pneumonia_test_array_y)), axis=0)"
   ]
  },
  {
   "cell_type": "markdown",
   "id": "interpreted-wagon",
   "metadata": {},
   "source": [
    "### Defining the model"
   ]
  },
  {
   "cell_type": "code",
   "execution_count": 40,
   "id": "searching-hands",
   "metadata": {},
   "outputs": [],
   "source": [
    "def Res_model(X, y, index, epoch):\n",
    "    \n",
    "\n",
    "    X = X.reshape(X.shape[0],X.shape[1], X.shape[2], 1)\n",
    "    \n",
    "    model = ResNet50V2(include_top=False, weights=None, input_tensor=Input(shape=((X.shape[1], X.shape[2], 1))))\n",
    "    \n",
    "    x = model.output\n",
    "    x = Flatten()(x)\n",
    "    x = Dense(64, activation = 'tanh')(x)\n",
    "    x = Dense(1, activation = \"linear\")(x)\n",
    "    model = keras.Model(model.input, x)\n",
    "    \n",
    "    \n",
    "    model.compile(loss='mse', optimizer='adam')\n",
    "    model.fit(X, y, epochs=epoch, batch_size=130, verbose = 1)\n",
    "    model.save('DL_model/model_'+str(index)+'.h5')\n",
    "    return model.predict(X)"
   ]
  },
  {
   "cell_type": "code",
   "execution_count": 41,
   "id": "qualified-rally",
   "metadata": {},
   "outputs": [],
   "source": [
    "def conf_matrix(y_real, y_predict):\n",
    "    tn, fp, fn, tp = confusion_matrix(y_real, y_predict).ravel()\n",
    "    acc= (tp + tn)/(tp+tn+fp+fn)\n",
    "    pre= tp/(tp+fp)\n",
    "    Recall=  (tp)/(tp+fn)\n",
    "    spec= (tn)/(tn+fp)\n",
    "    F1score= (2*(tp)/(2*tp+fp+fn))\n",
    "    mcc= ((tp*tn)-(fp*fn))/math.sqrt((tp+fp)*(tp+fn)*(tn+fp)*(tn+fn))\n",
    "    return tn, fp, fn, tp, acc, pre, Recall, spec, F1score, mcc"
   ]
  },
  {
   "cell_type": "code",
   "execution_count": 42,
   "id": "european-silence",
   "metadata": {},
   "outputs": [],
   "source": [
    "# It can be used to reconstruct the model identically.\n",
    "from tensorflow.keras.models import load_model\n",
    "\n",
    "def model_Predict(X,n_members):\n",
    "    X = X.reshape(X.shape[0],X.shape[1], X.shape[2], 1)\n",
    "    result = np.array([0.5] * len(X))\n",
    "    for i in range(0, n_members):\n",
    "        model = load_model('DL_model/model_'+str(i)+\".h5\")\n",
    "        RM_predicted = model.predict(X)\n",
    "        result = result+lr*RM_predicted.reshape((len(X), ))\n",
    "    return result"
   ]
  },
  {
   "cell_type": "markdown",
   "id": "separated-failure",
   "metadata": {},
   "source": [
    "# Starting Fitting"
   ]
  },
  {
   "cell_type": "code",
   "execution_count": null,
   "id": "friendly-senegal",
   "metadata": {
    "collapsed": true,
    "jupyter": {
     "outputs_hidden": true
    },
    "tags": []
   },
   "outputs": [],
   "source": [
    "max_auc = 0.9\n",
    "for num_Interation in range(2, 50, 3):\n",
    "    rsFile = \"Result_OverIteration_Bagging_Numeric/NumberOfBag_\"+str(num_Interation)+\".csv\"\n",
    "    f2=open(rsFile,\"w\")\n",
    "    f2.write('num_Interation, epoch, Time_train, Train_Peak_RAM, Time_predict, Peak_Time_prediction, thres, tn, fp, fn, tp, acc, pre, Recall, spec, F1score, mcc, auc\\n')\n",
    "    for epoch in (10, 50, 100, 500):\n",
    "        \n",
    "    \n",
    "        print(\"working on num_Interation: \" + str(num_Interation) + \"_with_epoch_\"+str(epoch))\n",
    "        \n",
    "        Res = []\n",
    "        predicted_Base =  np.array([0.5] * len(X_train))\n",
    "        predicted = predicted_Base\n",
    "        \n",
    "        start = timeit.default_timer()\n",
    "        tracemalloc.start()\n",
    "\n",
    "        ## Start training\n",
    "        for i in range(0, num_Interation):\n",
    "            Res = y_train-predicted\n",
    "            Predicted_Res = Res_model(X_train,Res, i, epoch)\n",
    "            New_predicted = predicted+ lr*Predicted_Res.reshape((Predicted_Res.shape[0],))\n",
    "            predicted = New_predicted\n",
    "\n",
    "        current, peak = tracemalloc.get_traced_memory()\n",
    "        stop = timeit.default_timer()\n",
    "        Time_train=stop - start\n",
    "        Train_Peak_RAM = peak / 10**6\n",
    "        \n",
    "        start = timeit.default_timer()\n",
    "        tracemalloc.start()\n",
    "        \n",
    "        predicted_test = model_Predict(X_test, num_Interation)\n",
    "        \n",
    "        stop = timeit.default_timer()\n",
    "        Time_predict=stop - start\n",
    "        current, peak = tracemalloc.get_traced_memory()\n",
    "        Peak_Time_prediction = peak / 10**6\n",
    "        auc=roc_auc_score(y_test, predicted_test)\n",
    "        \n",
    "\n",
    "        thres = predicted_test.min()\n",
    "        while (thres <= predicted_test.max()):\n",
    "            thres = thres+(predicted_test.max()/500)\n",
    "            yhat = []\n",
    "            for i in range(len(predicted_test)):\n",
    "                if predicted_test[i]>thres:\n",
    "                    yhat.append(1)\n",
    "                else:\n",
    "                    yhat.append(0)\n",
    "\n",
    "            yhat = np.array(yhat)\n",
    "\n",
    "            tn, fp, fn, tp, acc, pre, Recall, spec, F1score, mcc = conf_matrix(y_test, yhat)\n",
    "            f2.write(str(num_Interation)+\", \"+str(epoch)+\", \"+str(Time_train)+\", \"+str(Train_Peak_RAM)+\", \"+str(Time_predict)+\", \"+str(Peak_Time_prediction)+\", \"+str(thres)+\", \"+str(tn)+\", \"+str(fp)+\", \"+str(fn)+\", \"+str(tp)+\", \"+str(acc)+\", \"+str(pre)+\", \"+str(Recall)+\", \"+str(spec)+\", \"+str(F1score)+\", \"+str(mcc)+\", \"+str(auc)+\"\\n\")\n",
    "\n",
    "\n",
    "    f2.close()\n",
    "    print('WRITING FILE SUCESSFULL ========!!!!!!!!!!!!!!!!!!!!!!')       "
   ]
  }
 ],
 "metadata": {
  "kernelspec": {
   "display_name": "Python 3",
   "language": "python",
   "name": "python3"
  },
  "language_info": {
   "codemirror_mode": {
    "name": "ipython",
    "version": 3
   },
   "file_extension": ".py",
   "mimetype": "text/x-python",
   "name": "python",
   "nbconvert_exporter": "python",
   "pygments_lexer": "ipython3",
   "version": "3.7.9"
  }
 },
 "nbformat": 4,
 "nbformat_minor": 5
}
